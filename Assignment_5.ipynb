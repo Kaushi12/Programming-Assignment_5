{
 "cells": [
  {
   "cell_type": "code",
   "execution_count": 1,
   "metadata": {},
   "outputs": [
    {
     "name": "stdout",
     "output_type": "stream",
     "text": [
      "Enter a number: 5\n",
      "Enter a number: 3\n",
      "LCM is  15\n"
     ]
    }
   ],
   "source": [
    "a=int(input(\"Enter a number: \"))\n",
    "b=int(input(\"Enter a number: \"))\n",
    "if (a>b):\n",
    "    min1=a\n",
    "else:\n",
    "    min1=b\n",
    "while(True):\n",
    "    if(min1%a==0 and min1%b==0):\n",
    "        print(\"LCM is \",min1)\n",
    "        break\n",
    "    min1=min1+1"
   ]
  },
  {
   "cell_type": "code",
   "execution_count": 16,
   "metadata": {},
   "outputs": [
    {
     "name": "stdout",
     "output_type": "stream",
     "text": [
      "Enter a number: 20\n",
      "Enter a number: 25\n",
      "HCF is: 5\n"
     ]
    }
   ],
   "source": [
    "p=int(input(\"Enter a number: \"))\n",
    "q=int(input(\"Enter a number: \"))\n",
    "p=x\n",
    "q=y\n",
    "while x != y:\n",
    "  if x > y:\n",
    "    x = x - y\n",
    "  else:\n",
    "    y = y - x\n",
    "\n",
    "print(\"HCF is:\", x)\n"
   ]
  },
  {
   "cell_type": "code",
   "execution_count": 1,
   "metadata": {},
   "outputs": [
    {
     "name": "stdout",
     "output_type": "stream",
     "text": [
      "Enter a decimal number: 34\n",
      "0b100010 in binary.\n",
      "0o42 in octal.\n",
      "0x22 in hexadecimal.\n"
     ]
    }
   ],
   "source": [
    "dec = int(input(\"Enter a decimal number: \"))  \n",
    "print(bin(dec),\"in binary.\")  \n",
    "print(oct(dec),\"in octal.\")  \n",
    "print(hex(dec),\"in hexadecimal.\") "
   ]
  },
  {
   "cell_type": "code",
   "execution_count": 2,
   "metadata": {},
   "outputs": [
    {
     "name": "stdout",
     "output_type": "stream",
     "text": [
      "Enter any character: D\n",
      "The ASCII value of char D is:  68\n"
     ]
    }
   ],
   "source": [
    "ch = input(\"Enter any character: \")\n",
    "\n",
    "print(\"The ASCII value of char \" + ch + \" is: \",ord(ch))"
   ]
  },
  {
   "cell_type": "code",
   "execution_count": 4,
   "metadata": {},
   "outputs": [
    {
     "name": "stdout",
     "output_type": "stream",
     "text": [
      "Enter first number: 8\n",
      "Enter second number: 4\n",
      "Choose operation:1.Add,2.Subtraction,3.Multiplication,4.Divide4\n",
      "Answer is:  2.0\n"
     ]
    }
   ],
   "source": [
    "num1=int(input(\"Enter first number: \"))\n",
    "num2=int(input(\"Enter second number: \"))\n",
    "Operation=int(input(\"Choose operation:1.Add,2.Subtraction,3.Multiplication,4.Divide\"))\n",
    "if Operation==1:\n",
    "    result=num1+num2\n",
    "    print(\"Answer is: \",result)\n",
    "elif Operation==2:\n",
    "    result=num1-num2\n",
    "    print(\"Answer is: \",result)\n",
    "elif Operation==3:\n",
    "    result=num1*num2\n",
    "    print(\"Answer is: \",result)\n",
    "elif Operation==4:\n",
    "    result=num1/num2\n",
    "    print(\"Answer is: \",result)\n",
    "else:\n",
    "    print(\"Default\")"
   ]
  },
  {
   "cell_type": "code",
   "execution_count": null,
   "metadata": {},
   "outputs": [],
   "source": []
  }
 ],
 "metadata": {
  "kernelspec": {
   "display_name": "Python 3",
   "language": "python",
   "name": "python3"
  },
  "language_info": {
   "codemirror_mode": {
    "name": "ipython",
    "version": 3
   },
   "file_extension": ".py",
   "mimetype": "text/x-python",
   "name": "python",
   "nbconvert_exporter": "python",
   "pygments_lexer": "ipython3",
   "version": "3.8.5"
  }
 },
 "nbformat": 4,
 "nbformat_minor": 4
}
